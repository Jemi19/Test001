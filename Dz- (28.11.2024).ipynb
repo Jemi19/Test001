{
 "cells": [
  {
   "cell_type": "markdown",
   "metadata": {},
   "source": [
    "# 28.11.2024"
   ]
  },
  {
   "cell_type": "markdown",
   "metadata": {},
   "source": [
    "Задание 1\n",
    "Есть четыре списка целых. Необходимо их объединить\n",
    "в пятом списке. Полученный результат в зависимости от\n",
    "выбора пользователя отсортировать по убыванию или\n",
    "возрастанию. Найти значение, введенное пользователем,\n",
    "с использованием линейного поиска."
   ]
  },
  {
   "cell_type": "code",
   "execution_count": 1,
   "metadata": {},
   "outputs": [
    {
     "name": "stdout",
     "output_type": "stream",
     "text": [
      "Выберите тип сортировки:\n",
      "1. По возрастанию\n",
      "2. По убыванию\n",
      "Отсортированный список: [1, 1, 2, 3, 4, 5, 7, 8, 9, 10, 11, 12, 13, 14, 15, 16]\n",
      "Значение 2 найдено на позиции 2.\n"
     ]
    }
   ],
   "source": [
    "def main():\n",
    "    # Четыре списка целых чисел\n",
    "    list1 = [1, 2, 3, 4]\n",
    "    list2 = [5, 1, 7, 8]\n",
    "    list3 = [9, 10, 11, 12]\n",
    "    list4 = [13, 14, 15, 16]\n",
    "\n",
    "    # Объединение четырех списков в один\n",
    "    combined_list = list1 + list2 + list3 + list4\n",
    "\n",
    "    # Выбор пользователя для сортировки\n",
    "    print(\"Выберите тип сортировки:\")\n",
    "    print(\"1. По возрастанию\")\n",
    "    print(\"2. По убыванию\")\n",
    "    choice = int(input(\"Ваш выбор: \"))\n",
    "\n",
    "    # Сортировка списка в соответствии с выбором пользователя\n",
    "    if choice == 1:\n",
    "        combined_list.sort()\n",
    "    elif choice == 2:\n",
    "        combined_list.sort(reverse=True)\n",
    "    else:\n",
    "        print(\"Некорректный ввод. Программа завершится.\")\n",
    "        return\n",
    "\n",
    "    # Вывод отсортированного списка\n",
    "    print(\"Отсортированный список:\", combined_list)\n",
    "\n",
    "    # Запрос значения для поиска\n",
    "    target_value = int(input(\"Введите значение для поиска: \"))\n",
    "\n",
    "    # Линейный поиск\n",
    "    found = linear_search(combined_list, target_value)\n",
    "\n",
    "    if found != -1:\n",
    "        print(f\"Значение {target_value} найдено на позиции {found}.\")\n",
    "    else:\n",
    "        print(f\"Значение {target_value} не найдено.\")\n",
    "\n",
    "def linear_search(arr, x):\n",
    "    \"\"\"Функция для линейного поиска\"\"\"\n",
    "    for i in range(len(arr)):\n",
    "        if arr[i] == x:\n",
    "            return i\n",
    "    return -1\n",
    "\n",
    "if __name__ == \"__main__\":\n",
    "    main()"
   ]
  },
  {
   "cell_type": "markdown",
   "metadata": {},
   "source": [
    "Задание 2\n",
    "Есть четыре списка целых. Необходимо объединить\n",
    "в пятом списке только те элементы, которые уникальны\n",
    "для каждого списка. Полученный результат в зависимости\n",
    "от выбора пользователя отсортировать по убыванию или\n",
    "возрастанию. Найти значение, введенное пользователем,\n",
    "с использованием бинарного поиска."
   ]
  },
  {
   "cell_type": "code",
   "execution_count": 2,
   "metadata": {},
   "outputs": [
    {
     "name": "stdout",
     "output_type": "stream",
     "text": [
      "Выберите тип сортировки:\n",
      "1. По возрастанию\n",
      "2. По убыванию\n",
      "Отсортированный список: [16, 15, 14, 13, 12, 11, 10, 9, 8, 7, 6, 5, 4, 3, 2, 1]\n",
      "Значение 5 не найдено.\n"
     ]
    }
   ],
   "source": [
    "def main():\n",
    "    # Четыре списка целых чисел\n",
    "    list1 = [3, 6, 9, 12]\n",
    "    list2 = [1, 4, 7, 10]\n",
    "    list3 = [2, 5, 8, 11]\n",
    "    list4 = [13, 14, 15, 16]\n",
    "\n",
    "    # Объединение уникальных элементов\n",
    "    unique_elements = set(list1 + list2 + list3 + list4)\n",
    "    combined_list = list(unique_elements)\n",
    "\n",
    "    # Выбор пользователя для сортировки\n",
    "    print(\"Выберите тип сортировки:\")\n",
    "    print(\"1. По возрастанию\")\n",
    "    print(\"2. По убыванию\")\n",
    "    choice = int(input(\"Ваш выбор: \"))\n",
    "\n",
    "    # Сортировка списка в соответствии с выбором пользователя\n",
    "    if choice == 1:\n",
    "        combined_list.sort()\n",
    "    elif choice == 2:\n",
    "        combined_list.sort(reverse=True)\n",
    "    else:\n",
    "        print(\"Некорректный ввод. Программа завершится.\")\n",
    "        return\n",
    "\n",
    "    # Вывод отсортированного списка\n",
    "    print(\"Отсортированный список:\", combined_list)\n",
    "\n",
    "    # Запрос значения для поиска\n",
    "    target_value = int(input(\"Введите значение для поиска: \"))\n",
    "\n",
    "    # Бинарный поиск\n",
    "    found = binary_search(combined_list, target_value)\n",
    "\n",
    "    if found != -1:\n",
    "        print(f\"Значение {target_value} найдено на позиции {found}.\")\n",
    "    else:\n",
    "        print(f\"Значение {target_value} не найдено.\")\n",
    "\n",
    "def binary_search(arr, x):\n",
    "    \"\"\"Функция для бинарного поиска\"\"\"\n",
    "    low = 0\n",
    "    high = len(arr) - 1\n",
    "    while low <= high:\n",
    "        mid = (low + high) // 2\n",
    "        if arr[mid] < x:\n",
    "            low = mid + 1\n",
    "        elif arr[mid] > x:\n",
    "            high = mid - 1\n",
    "        else:\n",
    "            return mid\n",
    "    return -1\n",
    "\n",
    "if __name__ == \"__main__\":\n",
    "    main()"
   ]
  }
 ],
 "metadata": {
  "kernelspec": {
   "display_name": "Python 3",
   "language": "python",
   "name": "python3"
  },
  "language_info": {
   "codemirror_mode": {
    "name": "ipython",
    "version": 3
   },
   "file_extension": ".py",
   "mimetype": "text/x-python",
   "name": "python",
   "nbconvert_exporter": "python",
   "pygments_lexer": "ipython3",
   "version": "3.11.9"
  }
 },
 "nbformat": 4,
 "nbformat_minor": 2
}
