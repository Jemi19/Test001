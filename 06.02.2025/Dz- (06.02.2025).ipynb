{
 "cells": [
  {
   "cell_type": "markdown",
   "metadata": {},
   "source": [
    "# 06.02.2025"
   ]
  },
  {
   "cell_type": "markdown",
   "metadata": {},
   "source": [
    "Задание 1: Работа с ветвлениями, циклами, исключениями\n",
    "Создайте программу, которая:\n",
    "1. Запрашивает у пользователя список чисел, разделённых пробелом.\n",
    "2. Проверяет, чтобы введённые данные не содержали ошибок (например, букв,\n",
    "символов и т.д.). Если есть ошибка, выводит ошибку «Список должен состоять\n",
    "только из чисел» и запрашивает повторный ввод.\n",
    "3. Выводит:\n",
    "o Сумму всех чисел.\n",
    "o Количество положительных и отрицательных чисел.\n",
    "o Наименьшее и наибольшее число в списке.\n",
    "o Среднее значение чисел в списке."
   ]
  },
  {
   "cell_type": "code",
   "execution_count": 3,
   "metadata": {},
   "outputs": [
    {
     "name": "stdout",
     "output_type": "stream",
     "text": [
      "Список должен состоять только из чисел. Попробуйте снова.\n",
      "Сумма всех чисел: 11.0\n",
      "Количество положительных чисел: 4\n",
      "Количество отрицательных чисел: 0\n",
      "Наименьшее число: 1.0\n",
      "Наибольшее число: 5.0\n",
      "Среднее значение чисел: 2.75\n"
     ]
    }
   ],
   "source": [
    "def check_and_parse_input(input_string):\n",
    "    \"\"\" Проверяет, является ли строка списком чисел, разделенных пробелами. Если да, возвращает список чисел, иначе возвращает None. \"\"\"\n",
    "    try:\n",
    "        numbers = [float(x.strip()) for x in input_string.split()]\n",
    "        return numbers\n",
    "    except ValueError:\n",
    "        return None\n",
    "\n",
    "def calculate_statistics(numbers):\n",
    "    \"\"\" Рассчитывает статистику для списка чисел. \"\"\"\n",
    "    total_sum = sum(numbers)\n",
    "    positive_count = sum(1 for x in numbers if x > 0)\n",
    "    negative_count = sum(1 for x in numbers if x < 0)\n",
    "    smallest_number = min(numbers)\n",
    "    largest_number = max(numbers)\n",
    "    average = total_sum / len(numbers)\n",
    "\n",
    "    return {\n",
    "        \"Сумма всех чисел\": total_sum,\n",
    "        \"Количество положительных чисел\": positive_count,\n",
    "        \"Количество отрицательных чисел\": negative_count,\n",
    "        \"Наименьшее число\": smallest_number,\n",
    "        \"Наибольшее число\": largest_number,\n",
    "        \"Среднее значение чисел\": average\n",
    "    }\n",
    "\n",
    "def main():\n",
    "    while True:\n",
    "        user_input = input(\"Введите список чисел, разделенных пробелами: \")\n",
    "        numbers = check_and_parse_input(user_input)\n",
    "        if numbers is None:\n",
    "            print(\"Список должен состоять только из чисел. Попробуйте снова.\")\n",
    "            continue\n",
    "        statistics = calculate_statistics(numbers)\n",
    "        for key, value in statistics.items():\n",
    "            print(f\"{key}: {value}\")\n",
    "        break\n",
    "\n",
    "if __name__ == \"__main__\":\n",
    "    main()"
   ]
  },
  {
   "cell_type": "markdown",
   "metadata": {},
   "source": [
    "Задание 2: Строки, списки, функции\n",
    "Напишите функцию process_string(text: str) -> dict, которая:\n",
    "1. Принимает строку и возвращает словарь с:\n",
    "o Количеством слов в строке.\n",
    "o Количеством уникальных слов.\n",
    "o Самым длинным словом.\n",
    "2. Напишите основной код, который:\n",
    "o Считывает строку из файла input.txt.\n",
    "o Вызывает функцию и записывает результат в файл output.txt в виде:\n",
    "Слов: 10\n",
    "Уникальных слов: 8\n",
    "Самое длинное слово: \"программирование\" "
   ]
  },
  {
   "cell_type": "code",
   "execution_count": 16,
   "metadata": {},
   "outputs": [],
   "source": [
    "def process_string(text: str) -> dict:\n",
    "    # Разделяем текст на слова\n",
    "    words = text.split()\n",
    "    \n",
    "    if not words:\n",
    "        return {'total_words': 0, 'unique_words': 0, 'longest_word': ''}\n",
    "    \n",
    "    # Количество всех слов\n",
    "    total_words = len(words)\n",
    "    \n",
    "    # Количество уникальных слов\n",
    "    unique_words = len(set(words))\n",
    "    \n",
    "    # Самое длинное слово\n",
    "    longest_word = max(words, key=len)\n",
    "    \n",
    "    return {\n",
    "        'total_words': total_words,\n",
    "        'unique_words': unique_words,\n",
    "        'longest_word': longest_word\n",
    "    }\n",
    "\n",
    "\n",
    "# Основной код\n",
    "if __name__ == \"__main__\":\n",
    "    # Чтение строки из файла input.txt\n",
    "    with open('input.txt', 'r') as file:\n",
    "        text = file.read().strip()  # Убираем лишние пробелы и переносы строк по краям текста\n",
    "        \n",
    "    # Обработка строки функцией\n",
    "    result = process_string(text)\n",
    "    \n",
    "    # Запись результата в файл output.txt\n",
    "    with open('output.txt', 'w') as file:\n",
    "        file.write(f\"Слов: {result['total_words']}\\n\")\n",
    "        file.write(f\"Уникальных слов: {result['unique_words']}\\n\")\n",
    "        file.write(f\"Самое длинное слово: \\\"{result['longest_word']}\\\"\")"
   ]
  },
  {
   "cell_type": "markdown",
   "metadata": {},
   "source": [
    "Задание 3: Сортировка, поиск, работа с коллекциями\n",
    "Напишите программу, которая:\n",
    "1. Создаёт случайный список из 20 чисел от -100 до 100.\n",
    "2. Сортирует его по возрастанию, используя сортировку пузырьком.\n",
    "3. Находит в списке число, введённое пользователем (если число не найдено, выводит\n",
    "сообщение об этом).\n",
    "4. Выводит отсортированный список и индекс найденного числа."
   ]
  },
  {
   "cell_type": "code",
   "execution_count": 17,
   "metadata": {},
   "outputs": [
    {
     "name": "stdout",
     "output_type": "stream",
     "text": [
      "Исходный список: [-9, -18, 43, 71, 38, -2, 62, -36, -84, 47, 17, 27, 85, 82, 12, -36, -1, -43, 62, 16]\n",
      "Отсортированный список: [-84, -43, -36, -36, -18, -9, -2, -1, 12, 16, 17, 27, 38, 43, 47, 62, 62, 71, 82, 85]\n",
      "Число 55 не найдено.\n"
     ]
    }
   ],
   "source": [
    "import random\n",
    "\n",
    "# Генерация случайного списка из 20 чисел от -100 до 100\n",
    "random_list = [random.randint(-100, 100) for _ in range(20)]\n",
    "print(\"Исходный список:\", random_list)\n",
    "\n",
    "# Сортировка пузырьком\n",
    "def bubble_sort(arr):\n",
    "    n = len(arr)\n",
    "    for i in range(n):\n",
    "        swapped = False\n",
    "        for j in range(0, n-i-1):\n",
    "            if arr[j] > arr[j+1]:\n",
    "                arr[j], arr[j+1] = arr[j+1], arr[j]\n",
    "                swapped = True\n",
    "        if not swapped:\n",
    "            break\n",
    "    return arr\n",
    "\n",
    "sorted_list = bubble_sort(random_list.copy())\n",
    "print(\"Отсортированный список:\", sorted_list)\n",
    "\n",
    "# Поиск числа, введенного пользователем\n",
    "number_to_find = int(input(\"Введите число для поиска: \"))\n",
    "index = None\n",
    "\n",
    "for i, num in enumerate(sorted_list):\n",
    "    if num == number_to_find:\n",
    "        index = i\n",
    "        break\n",
    "\n",
    "if index is None:\n",
    "    print(f\"Число {number_to_find} не найдено.\")\n",
    "else:\n",
    "    print(f\"Индекс числа {number_to_find}: {index}\")"
   ]
  },
  {
   "cell_type": "markdown",
   "metadata": {},
   "source": [
    "Задание 4: ООП, кортежи, множества, словари\n",
    "Создайте класс Student, который:\n",
    "1. Имеет атрибуты name (имя студента), scores (список оценок).\n",
    "2. Имеет методы:\n",
    "o add_score(score): добавляет оценку.\n",
    "o average_score(): возвращает средний балл.\n",
    "o get_report(): возвращает словарь с именем, средним баллом и уникальными\n",
    "оценками (в виде множества).\n",
    "3. Напишите код для работы с классом:\n",
    "o Создайте список из 5 студентов с разными именами и оценками.\n",
    "o Выведите отчёты для всех студентов."
   ]
  },
  {
   "cell_type": "code",
   "execution_count": 18,
   "metadata": {},
   "outputs": [
    {
     "name": "stdout",
     "output_type": "stream",
     "text": [
      "Иван - Средний балл: 85.00, Уникальные оценки: {80, 90, 85}\n",
      "Мария - Средний балл: 95.00, Уникальные оценки: {98, 92, 95}\n",
      "Петр - Средний балл: 70.00, Уникальные оценки: {65, 75, 70}\n",
      "Анна - Средний балл: 90.67, Уникальные оценки: {88, 91, 93}\n",
      "Сергей - Средний балл: 81.33, Уникальные оценки: {82, 84, 78}\n"
     ]
    }
   ],
   "source": [
    "class Student:\n",
    "    def __init__(self, name, scores=None):\n",
    "        self.name = name\n",
    "        if scores is None:\n",
    "            self.scores = []\n",
    "        else:\n",
    "            self.scores = scores\n",
    "\n",
    "    def add_score(self, score):\n",
    "        self.scores.append(score)\n",
    "\n",
    "    def average_score(self):\n",
    "        if self.scores:\n",
    "            return sum(self.scores) / len(self.scores)\n",
    "        return 0\n",
    "\n",
    "    def get_report(self):\n",
    "        return {\n",
    "            'name': self.name,\n",
    "            'average_score': self.average_score(),\n",
    "            'unique_scores': set(self.scores)\n",
    "        }\n",
    "\n",
    "# Создание списка из 5 студентов\n",
    "students = [\n",
    "    Student('Иван', [80, 90, 85]),\n",
    "    Student('Мария', [95, 92, 98]),\n",
    "    Student('Петр', [70, 75, 65]),\n",
    "    Student('Анна', [88, 91, 93]),\n",
    "    Student('Сергей', [82, 78, 84])\n",
    "]\n",
    "\n",
    "# Вывод отчетов для всех студентов\n",
    "for student in students:\n",
    "    report = student.get_report()\n",
    "    print(f\"{report['name']} - Средний балл: {report['average_score']:.2f}, Уникальные оценки: {report['unique_scores']}\")"
   ]
  },
  {
   "cell_type": "markdown",
   "metadata": {},
   "source": [
    "Задание 5: Структуры данных, работа с файлами (20 баллов)\n",
    "Напишите программу, которая:\n",
    "1. Читает файл students.txt, где каждая строка содержит имя студента и его баллы\n",
    "через запятую (например, Илья,4,5,3,5) (как минимум 5 строк, сами придумайте\n",
    "имена и оценки).\n",
    "2. Сохраняет данные в словарь, где ключ – имя студента, а значение – список его\n",
    "баллов.\n",
    "3. Находит студента с наивысшим средним баллом.\n",
    "4. Записывает результат в файл top_student.txt в виде (и заодно выводит эту же\n",
    "информацию на экран):\n",
    "Лучший студент: Илья\n",
    "Средний балл: 4.25"
   ]
  },
  {
   "cell_type": "code",
   "execution_count": 20,
   "metadata": {},
   "outputs": [
    {
     "name": "stdout",
     "output_type": "stream",
     "text": [
      "Лучший студент: None\n",
      "Средний балл: 0.00\n"
     ]
    }
   ],
   "source": [
    "def read_students_from_file(file_path):\n",
    "    \"\"\"Читает файл с данными студентов и преобразует их в словарь.\"\"\"\n",
    "    students = {}\n",
    "    with open(file_path, 'r') as file:\n",
    "        for line in file:\n",
    "            parts = line.strip().split(',')\n",
    "            name = parts[0]\n",
    "            grades = list(map(int, parts[1:]))\n",
    "            students[name] = grades\n",
    "    return students\n",
    "\n",
    "\n",
    "def find_top_student(students):\n",
    "    \"\"\"Находит студента с наивысшим средним баллом.\"\"\"\n",
    "    best_student = None\n",
    "    highest_average = 0\n",
    "    for name, grades in students.items():\n",
    "        average_grade = sum(grades) / len(grades)\n",
    "        if average_grade > highest_average:\n",
    "            best_student = name\n",
    "            highest_average = average_grade\n",
    "    return best_student, highest_average\n",
    "\n",
    "\n",
    "def write_result_to_file(best_student, average_grade, file_path):\n",
    "    \"\"\"Записывает информацию о лучшем студенте в файл и выводит её на экран.\"\"\"\n",
    "    message = f'Лучший студент: {best_student}\\nСредний балл: {average_grade:.2f}'\n",
    "    with open(file_path, 'w') as file:\n",
    "        file.write(message)\n",
    "    print(message)\n",
    "\n",
    "\n",
    "def main():\n",
    "    # Путь к файлу с данными студентов\n",
    "    input_file_path = 'students.txt'\n",
    "    # Путь к файлу для записи результата\n",
    "    output_file_path = 'top_student.txt'\n",
    "\n",
    "    # Чтение данных из файла\n",
    "    students = read_students_from_file(input_file_path)\n",
    "\n",
    "    # Нахождение лучшего студента\n",
    "    best_student, average_grade = find_top_student(students)\n",
    "\n",
    "    # Запись результата в файл и вывод на экран\n",
    "    write_result_to_file(best_student, average_grade, output_file_path)\n",
    "\n",
    "\n",
    "if __name__ == '__main__':\n",
    "    main()"
   ]
  }
 ],
 "metadata": {
  "kernelspec": {
   "display_name": "Python 3",
   "language": "python",
   "name": "python3"
  },
  "language_info": {
   "codemirror_mode": {
    "name": "ipython",
    "version": 3
   },
   "file_extension": ".py",
   "mimetype": "text/x-python",
   "name": "python",
   "nbconvert_exporter": "python",
   "pygments_lexer": "ipython3",
   "version": "3.11.9"
  }
 },
 "nbformat": 4,
 "nbformat_minor": 2
}
