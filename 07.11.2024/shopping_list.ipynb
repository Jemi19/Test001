{
 "cells": [
  {
   "cell_type": "code",
   "execution_count": 2,
   "metadata": {},
   "outputs": [],
   "source": [
    "class ShoppingList:\n",
    "    def __init__(self):\n",
    "        self.items = {}\n",
    "    \n",
    "    def add_item(self, item, quantity=1):\n",
    "        if item in self.items:\n",
    "            print(f\"Предмет '{item}' уже присутствует в списке.\")\n",
    "        else:\n",
    "            self.items[item] = quantity\n",
    "            print(f\"Предмет '{item}' добавлен в список.\")\n",
    "        \n",
    "    def remove_item(self, item):\n",
    "        if item not in self.items:\n",
    "            print(f\"Предмета '{item}' нет в списке.\")\n",
    "        else:\n",
    "            del self.items[item]\n",
    "            print(f\"Предмет '{item}' удален из списка.\")\n",
    "            \n",
    "    def edit_quantity(self, item, new_quantity):\n",
    "        if item not in self.items:\n",
    "            print(f\"Предмета '{item}' нет в списке.\")\n",
    "        else:\n",
    "            self.items[item] = new_quantity\n",
    "            print(f\"Количество предмета '{item}' обновлено до {new_quantity}.\")\n",
    "    \n",
    "    def view_list(self):\n",
    "        if len(self.items) == 0:\n",
    "            print(\"Список покупок пуст.\")\n",
    "        else:\n",
    "            for key, value in self.items.items():\n",
    "                print(f\"{key} - {value}\")"
   ]
  }
 ],
 "metadata": {
  "kernelspec": {
   "display_name": "Python 3",
   "language": "python",
   "name": "python3"
  },
  "language_info": {
   "codemirror_mode": {
    "name": "ipython",
    "version": 3
   },
   "file_extension": ".py",
   "mimetype": "text/x-python",
   "name": "python",
   "nbconvert_exporter": "python",
   "pygments_lexer": "ipython3",
   "version": "3.11.9"
  }
 },
 "nbformat": 4,
 "nbformat_minor": 2
}
