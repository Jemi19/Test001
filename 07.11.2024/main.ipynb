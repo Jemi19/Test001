{
 "cells": [
  {
   "cell_type": "code",
   "execution_count": 3,
   "metadata": {},
   "outputs": [
    {
     "name": "stdout",
     "output_type": "stream",
     "text": [
      "Предмет 'Хлеб' добавлен в список.\n",
      "Предмет 'Молоко' добавлен в список.\n",
      "Предмет 'Яйца' добавлен в список.\n",
      "\n",
      "Текущий список:\n",
      "Хлеб - 2\n",
      "Молоко - 1\n",
      "Яйца - 10\n",
      "Предмет 'Молоко' удален из списка.\n",
      "\n",
      "Изменённый список после удаления 'Молока':\n",
      "Хлеб - 2\n",
      "Яйца - 10\n",
      "Количество предмета 'Яйца' обновлено до 7.\n",
      "\n",
      "Окончательный список после изменения количества яиц:\n",
      "Хлеб - 2\n",
      "Яйца - 7\n"
     ]
    }
   ],
   "source": [
    "from shopping_list import ShoppingList\n",
    "\n",
    "# Создание объекта класса ShoppingList\n",
    "my_shopping_list = ShoppingList()\n",
    "\n",
    "# Добавление предметов в список\n",
    "my_shopping_list.add_item('Хлеб', 2)\n",
    "my_shopping_list.add_item('Молоко')\n",
    "my_shopping_list.add_item('Яйца', 10)\n",
    "\n",
    "# Просмотр текущего списка\n",
    "print(\"\\nТекущий список:\")\n",
    "my_shopping_list.view_list()\n",
    "\n",
    "# Удаление молока из списка\n",
    "my_shopping_list.remove_item('Молоко')\n",
    "\n",
    "# Просмотр измененного списка\n",
    "print(\"\\nИзменённый список после удаления 'Молока':\")\n",
    "my_shopping_list.view_list()\n",
    "\n",
    "# Изменение количества яиц\n",
    "my_shopping_list.edit_quantity('Яйца', 7)\n",
    "\n",
    "# Просмотр окончательного списка\n",
    "print(\"\\nОкончательный список после изменения количества яиц:\")\n",
    "my_shopping_list.view_list()"
   ]
  }
 ],
 "metadata": {
  "kernelspec": {
   "display_name": "Python 3",
   "language": "python",
   "name": "python3"
  },
  "language_info": {
   "codemirror_mode": {
    "name": "ipython",
    "version": 3
   },
   "file_extension": ".py",
   "mimetype": "text/x-python",
   "name": "python",
   "nbconvert_exporter": "python",
   "pygments_lexer": "ipython3",
   "version": "3.11.9"
  }
 },
 "nbformat": 4,
 "nbformat_minor": 2
}
