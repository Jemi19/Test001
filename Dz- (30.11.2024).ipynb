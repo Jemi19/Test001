{
 "cells": [
  {
   "cell_type": "markdown",
   "metadata": {},
   "source": [
    "# 30.11.2024"
   ]
  },
  {
   "cell_type": "markdown",
   "metadata": {},
   "source": [
    "Задание 1\n",
    "Есть три кортежа целых чисел необходимо найти\n",
    "элементы, которые есть во всех кортежах."
   ]
  },
  {
   "cell_type": "code",
   "execution_count": 1,
   "metadata": {},
   "outputs": [
    {
     "name": "stdout",
     "output_type": "stream",
     "text": [
      "{3}\n"
     ]
    }
   ],
   "source": [
    "tuple1 = (1, 2, 3, 4)\n",
    "tuple2 = (3, 5, 6, 7)\n",
    "tuple3 = (8, 9, 10, 3)\n",
    "\n",
    "# Преобразуем кортежи в множества и находим пересечение\n",
    "common_elements = set(tuple1) & set(tuple2) & set(tuple3)\n",
    "print(common_elements)"
   ]
  },
  {
   "cell_type": "markdown",
   "metadata": {},
   "source": [
    "Задание 2\n",
    "Есть три кортежа целых чисел необходимо найти\n",
    "элементы, которые уникальны для каждого списка."
   ]
  },
  {
   "cell_type": "code",
   "execution_count": 2,
   "metadata": {},
   "outputs": [
    {
     "name": "stdout",
     "output_type": "stream",
     "text": [
      "[1, 2, 4, 5, 6, 7, 8, 9, 10]\n"
     ]
    }
   ],
   "source": [
    "from collections import Counter\n",
    "\n",
    "tuple1 = (1, 2, 3, 4)\n",
    "tuple2 = (3, 5, 6, 7)\n",
    "tuple3 = (8, 9, 10, 3)\n",
    "\n",
    "# Объединяем все элементы в один список\n",
    "all_elements = tuple1 + tuple2 + tuple3\n",
    "\n",
    "# Считаем количество вхождений каждого элемента\n",
    "counter = Counter(all_elements)\n",
    "\n",
    "# Находим элементы, встречающиеся ровно один раз\n",
    "unique_elements = [element for element in counter if counter[element] == 1]\n",
    "\n",
    "print(unique_elements)"
   ]
  },
  {
   "cell_type": "markdown",
   "metadata": {},
   "source": [
    "Задание 3\n",
    "Есть три кортежа целых чисел необходимо найти элементы, которые есть в каждом из кортежей и находятся\n",
    "в каждом из кортежей на той же позиции.\n"
   ]
  },
  {
   "cell_type": "code",
   "execution_count": 3,
   "metadata": {},
   "outputs": [
    {
     "name": "stdout",
     "output_type": "stream",
     "text": [
      "[2, 4]\n"
     ]
    }
   ],
   "source": [
    "tuple1 = (1, 2, 3, 4)\n",
    "tuple2 = (3, 2, 0, 4)\n",
    "tuple3 = (5, 2, 6, 4)\n",
    "\n",
    "result = []\n",
    "\n",
    "for i in range(min(len(tuple1), len(tuple2), len(tuple3))):\n",
    "    if tuple1[i] == tuple2[i] and tuple2[i] == tuple3[i]:\n",
    "        result.append(tuple1[i])\n",
    "\n",
    "print(result)"
   ]
  }
 ],
 "metadata": {
  "kernelspec": {
   "display_name": "Python 3",
   "language": "python",
   "name": "python3"
  },
  "language_info": {
   "codemirror_mode": {
    "name": "ipython",
    "version": 3
   },
   "file_extension": ".py",
   "mimetype": "text/x-python",
   "name": "python",
   "nbconvert_exporter": "python",
   "pygments_lexer": "ipython3",
   "version": "3.11.9"
  }
 },
 "nbformat": 4,
 "nbformat_minor": 2
}
