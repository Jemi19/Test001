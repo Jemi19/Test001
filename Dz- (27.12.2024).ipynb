{
 "cells": [
  {
   "cell_type": "markdown",
   "metadata": {},
   "source": [
    "# 27.12.2024"
   ]
  },
  {
   "cell_type": "markdown",
   "metadata": {},
   "source": [
    "Задание 1: Атрибуты класса\n",
    "Создайте класс Car с атрибутами класса\n",
    "default_color и default_model.\n",
    "default_color должен быть равен \"black\".\n",
    "default_model должен быть равен \"sedan\".\n",
    "Добавьте в класс Car конструктор, который\n",
    "принимает параметры color и model.\n",
    "Если color не передан, используйте значение\n",
    "атрибута класса default_color.\n",
    "Если model не передан, используйте значение\n",
    "атрибута класса default_model.\n",
    "Создайте два объекта класса Car:\n",
    "Первый объект с параметрами color=\"red\" и\n",
    "model=\"SUV\".\n",
    "Второй объект без параметров.\n",
    "Выведите на экран атрибуты color и model для\n",
    "обоих объектов."
   ]
  },
  {
   "cell_type": "code",
   "execution_count": 1,
   "metadata": {},
   "outputs": [
    {
     "name": "stdout",
     "output_type": "stream",
     "text": [
      "Color of car1: red, Model of car1: SUV\n",
      "Color of car2: black, Model of car2: sedan\n"
     ]
    }
   ],
   "source": [
    "class Car:\n",
    "    # Атрибуты класса\n",
    "    default_color = \"black\"\n",
    "    default_model = \"sedan\"\n",
    "    \n",
    "    def __init__(self, color=None, model=None):\n",
    "        self.color = color if color is not None else self.default_color\n",
    "        self.model = model if model is not None else self.default_model\n",
    "\n",
    "# Создаем первый объект с параметрами color=\"red\" и model=\"SUV\"\n",
    "car1 = Car(color=\"red\", model=\"SUV\")\n",
    "\n",
    "# Создаем второй объект без параметров\n",
    "car2 = Car()\n",
    "\n",
    "# Выводим атрибуты color и model для обоих объектов\n",
    "print(f\"Color of car1: {car1.color}, Model of car1: {car1.model}\")\n",
    "print(f\"Color of car2: {car2.color}, Model of car2: {car2.model}\")"
   ]
  },
  {
   "cell_type": "markdown",
   "metadata": {},
   "source": [
    "Задание 2: Статические методы\n",
    "Создайте класс MathOperations с двумя\n",
    "статическими методами:\n",
    "add(a, b) — возвращает сумму двух чисел.\n",
    "multiply(a, b) — возвращает произведение двух\n",
    "чисел.\n",
    "Вызовите оба статических метода через имя\n",
    "класса и через объект класса."
   ]
  },
  {
   "cell_type": "code",
   "execution_count": 2,
   "metadata": {},
   "outputs": [
    {
     "name": "stdout",
     "output_type": "stream",
     "text": [
      "Result of addition through class: 8\n",
      "Result of multiplication through class: 24\n",
      "Result of addition through object: 15\n",
      "Result of multiplication through object: 90\n"
     ]
    }
   ],
   "source": [
    "class MathOperations:\n",
    "    @staticmethod\n",
    "    def add(a, b):\n",
    "        return a + b\n",
    "\n",
    "    @staticmethod\n",
    "    def multiply(a, b):\n",
    "        return a * b\n",
    "\n",
    "\n",
    "# Вызываем методы через имя класса\n",
    "result_add_class = MathOperations.add(3, 5)\n",
    "result_multiply_class = MathOperations.multiply(4, 6)\n",
    "\n",
    "# Создаем объект класса\n",
    "math_obj = MathOperations()\n",
    "\n",
    "# Вызываем методы через объект класса\n",
    "result_add_object = math_obj.add(7, 8)\n",
    "result_multiply_object = math_obj.multiply(9, 10)\n",
    "\n",
    "# Выводим результаты\n",
    "print(\"Result of addition through class:\", result_add_class)\n",
    "print(\"Result of multiplication through class:\", result_multiply_class)\n",
    "print(\"Result of addition through object:\", result_add_object)\n",
    "print(\"Result of multiplication through object:\", result_multiply_object)\n"
   ]
  },
  {
   "cell_type": "markdown",
   "metadata": {},
   "source": [
    "Задание 3: Перегрузка операторов\n",
    "Создайте класс Vector с атрибутом values,\n",
    "который представляет собой список чисел.\n",
    "Реализуйте перегрузку оператора сложения\n",
    "(__add__) для класса Vector.\n",
    "Сложение двух объектов Vector должно\n",
    "возвращать новый объект Vector, значения\n",
    "которого являются суммой соответствующих\n",
    "элементов двух векторов.\n",
    "Реализуйте перегрузку оператора умножения\n",
    "(__mul__) для класса Vector.\n",
    "Умножение двух объектов Vector должно\n",
    "возвращать скалярное произведение векторов.\n",
    "Создайте два объекта Vector с разными\n",
    "значениями и выполните сложение и\n",
    "умножение."
   ]
  },
  {
   "cell_type": "code",
   "execution_count": 3,
   "metadata": {},
   "outputs": [
    {
     "name": "stdout",
     "output_type": "stream",
     "text": [
      "Sum vector: Vector([5, 7, 9])\n",
      "Scaled vector: Vector([2, 4, 6])\n",
      "Dot product: 32\n"
     ]
    }
   ],
   "source": [
    "class Vector:\n",
    "    def __init__(self, values):\n",
    "        self.values = values\n",
    "\n",
    "    def __add__(self, other):\n",
    "        if len(self.values) != len(other.values):\n",
    "            raise ValueError(\"Vectors must have the same length for addition.\")\n",
    "        \n",
    "        new_values = [a + b for a, b in zip(self.values, other.values)]\n",
    "        return Vector(new_values)\n",
    "\n",
    "    def __mul__(self, other):\n",
    "        if isinstance(other, int) or isinstance(other, float):  # Умножение вектора на число\n",
    "            new_values = [value * other for value in self.values]\n",
    "            return Vector(new_values)\n",
    "        elif isinstance(other, Vector):  # Скалярное произведение векторов\n",
    "            if len(self.values) != len(other.values):\n",
    "                raise ValueError(\"Vectors must have the same length for dot product.\")\n",
    "            \n",
    "            dot_product = sum([a * b for a, b in zip(self.values, other.values)])\n",
    "            return dot_product\n",
    "        else:\n",
    "            raise TypeError(\"Unsupported operand type(s) for *: 'Vector' and '{}'\".format(type(other).__name__))\n",
    "\n",
    "    def __repr__(self):\n",
    "        return f\"Vector({self.values})\"\n",
    "\n",
    "# Пример использования\n",
    "v1 = Vector([1, 2, 3])\n",
    "v2 = Vector([4, 5, 6])\n",
    "\n",
    "# Сложение векторов\n",
    "sum_vector = v1 + v2\n",
    "print(\"Sum vector:\", sum_vector)\n",
    "\n",
    "# Умножение вектора на число\n",
    "scaled_vector = v1 * 2\n",
    "print(\"Scaled vector:\", scaled_vector)\n",
    "\n",
    "# Скалярное произведение векторов\n",
    "dot_product = v1 * v2\n",
    "print(\"Dot product:\", dot_product)"
   ]
  },
  {
   "cell_type": "markdown",
   "metadata": {},
   "source": [
    "Задание 4: Проверка наличия свойства\n",
    "Создайте класс Person с атрибутами name и age.\n",
    "Реализуйте метод __contains__, который\n",
    "проверяет, содержит ли объект атрибут с\n",
    "указанным именем.\n",
    "Если переданное имя атрибута равно \"name\" или\n",
    "\"age\", метод должен возвращать True.\n",
    "В противном случае — False.\n",
    "Создайте объект Person и проверьте наличие\n",
    "атрибутов \"name\" и \"id\" с помощью оператора\n",
    "in."
   ]
  },
  {
   "cell_type": "code",
   "execution_count": 4,
   "metadata": {},
   "outputs": [
    {
     "name": "stdout",
     "output_type": "stream",
     "text": [
      "'name' attribute exists\n",
      "'id' attribute does not exist\n"
     ]
    }
   ],
   "source": [
    "class Person:\n",
    "    def __init__(self, name, age):\n",
    "        self.name = name\n",
    "        self.age = age\n",
    "\n",
    "    def __contains__(self, item):\n",
    "        return item in ('name', 'age')\n",
    "\n",
    "# Создание объекта класса Person\n",
    "person = Person('Иван', 30)\n",
    "\n",
    "# Проверка наличия атрибутов с использованием оператора in\n",
    "if 'name' in person:\n",
    "    print(\"'name' attribute exists\")\n",
    "else:\n",
    "    print(\"'name' attribute does not exist\")\n",
    "\n",
    "if 'id' in person:\n",
    "    print(\"'id' attribute exists\")\n",
    "else:\n",
    "    print(\"'id' attribute does not exist\")"
   ]
  }
 ],
 "metadata": {
  "kernelspec": {
   "display_name": "Python 3",
   "language": "python",
   "name": "python3"
  },
  "language_info": {
   "codemirror_mode": {
    "name": "ipython",
    "version": 3
   },
   "file_extension": ".py",
   "mimetype": "text/x-python",
   "name": "python",
   "nbconvert_exporter": "python",
   "pygments_lexer": "ipython3",
   "version": "3.11.9"
  }
 },
 "nbformat": 4,
 "nbformat_minor": 2
}
