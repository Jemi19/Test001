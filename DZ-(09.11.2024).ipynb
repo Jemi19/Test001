{
 "cells": [
  {
   "cell_type": "markdown",
   "metadata": {},
   "source": [
    "# 09.11.2024"
   ]
  },
  {
   "cell_type": "markdown",
   "metadata": {},
   "source": [
    "Задание:\n",
    "\n",
    "Напишите функцию calculate_average\n",
    "которая принимает любое количество числовых аргументов и возвращает среднее значение.\n",
    "Используйте *args для обработки произвольного количества аргументов. Ваша функция не должна ломаться.\n",
    "То есть если её вызвать без аргументов\n",
    "она должна выдать что-то вроде \n",
    "«Вы забыли ввести числа для расчета среднего значения».\n",
    "\n",
    "\n",
    "\n",
    "\n",
    "Пример использования:\n",
    "\n",
    "average1 = calculate_average(1, 2, 3, 4, 5) \n",
    "print(average1) # Должно вернуть 3\n",
    "\n",
    "average2 = calculate_average(100, 20, 354) \n",
    "print(average2) # Должно вернуть 158"
   ]
  },
  {
   "cell_type": "code",
   "execution_count": 20,
   "metadata": {},
   "outputs": [
    {
     "name": "stdout",
     "output_type": "stream",
     "text": [
      "3.0\n",
      "158.0\n",
      "Вы забыли ввести числа для расчета среднего значения.\n"
     ]
    }
   ],
   "source": [
    "def calculate_average(*args): \n",
    "    if len(args) == 0: \n",
    "        return \"Вы забыли ввести числа для расчета среднего значения.\" \n",
    "    \n",
    "    total = sum(args) \n",
    "    average = total / len(args) \n",
    "    return average \n",
    "\n",
    "# Примеры использования \n",
    "average1 = calculate_average(1, 2, 3, 4, 5) \n",
    "print(average1)  # Должно вернуть 3 \n",
    "\n",
    "average2 = calculate_average(100, 20, 354) \n",
    "print(average2)  # Должно вернуть 158 \n",
    "\n",
    "average3 = calculate_average()  # Вызов без аргументов \n",
    "print(average3)  # Должно вернуть сообщение об ошибке\n"
   ]
  }
 ],
 "metadata": {
  "kernelspec": {
   "display_name": "Python 3",
   "language": "python",
   "name": "python3"
  },
  "language_info": {
   "codemirror_mode": {
    "name": "ipython",
    "version": 3
   },
   "file_extension": ".py",
   "mimetype": "text/x-python",
   "name": "python",
   "nbconvert_exporter": "python",
   "pygments_lexer": "ipython3",
   "version": "3.11.9"
  }
 },
 "nbformat": 4,
 "nbformat_minor": 2
}
