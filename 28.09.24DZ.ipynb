{
 "cells": [
  {
   "attachments": {},
   "cell_type": "markdown",
   "metadata": {},
   "source": [
    "Задание 1\n",
    "Пользователь вводит с клавиатуры три числа. В за\u0002висимости от выбора пользователя программа выводит \n",
    "на экран сумму трёх чисел или произведение трёх чисел."
   ]
  },
  {
   "cell_type": "code",
   "execution_count": 12,
   "metadata": {},
   "outputs": [
    {
     "ename": "ValueError",
     "evalue": "could not convert string to float: '+'",
     "output_type": "error",
     "traceback": [
      "\u001b[1;31m---------------------------------------------------------------------------\u001b[0m",
      "\u001b[1;31mValueError\u001b[0m                                Traceback (most recent call last)",
      "Cell \u001b[1;32mIn[12], line 3\u001b[0m\n\u001b[0;32m      1\u001b[0m num_1 \u001b[39m=\u001b[39m \u001b[39mfloat\u001b[39m(\u001b[39minput\u001b[39m(\u001b[39m'\u001b[39m\u001b[39mВведите превое число: \u001b[39m\u001b[39m'\u001b[39m))\n\u001b[0;32m      2\u001b[0m num_2 \u001b[39m=\u001b[39m \u001b[39mfloat\u001b[39m(\u001b[39minput\u001b[39m(\u001b[39m'\u001b[39m\u001b[39mВведите второе число: \u001b[39m\u001b[39m'\u001b[39m))\n\u001b[1;32m----> 3\u001b[0m num_3 \u001b[39m=\u001b[39m \u001b[39mfloat\u001b[39;49m(\u001b[39minput\u001b[39;49m(\u001b[39m'\u001b[39;49m\u001b[39mВведите второе число: \u001b[39;49m\u001b[39m'\u001b[39;49m))\n\u001b[0;32m      5\u001b[0m Dimooon \u001b[39m=\u001b[39m \u001b[39minput\u001b[39m(\u001b[39m\"\u001b[39m\u001b[39mА тебе не расчитать ссуму или произвидение? (sum/product): \u001b[39m\u001b[39m\"\u001b[39m)\n\u001b[0;32m      7\u001b[0m \u001b[39mif\u001b[39;00m Dimooon \u001b[39m==\u001b[39m \u001b[39m\"\u001b[39m\u001b[39msum\u001b[39m\u001b[39m\"\u001b[39m:\n",
      "\u001b[1;31mValueError\u001b[0m: could not convert string to float: '+'"
     ]
    }
   ],
   "source": [
    "num_1 = float(input('Введите превое число: '))\n",
    "num_2 = float(input('Введите второе число: '))\n",
    "num_3 = float(input('Введите второе число: '))\n",
    "\n",
    "Dimooon = input(\"А тебе не расчитать ссуму или произвидение? (sum/product): \")\n",
    "\n",
    "if Dimooon == \"sum\":\n",
    "    result = num_1 + num_2 + num_3\n",
    "    print('Числа трёх:', result)\n",
    "elif Dimooon == \"product\":\n",
    "    result = num_1 * num_2 * num_3\n",
    "    print('Произвидение трех чисел:', result)\n",
    "else:\n",
    "    print('Неверный выбор. Пожалуйста, ведите; \"sum\", \"product\".')\n",
    "   "
   ]
  },
  {
   "attachments": {},
   "cell_type": "markdown",
   "metadata": {},
   "source": [
    "Задание 2\n",
    "Пользователь вводит с клавиатуры три числа. В за\u0002висимости от выбора пользователя программа выводит \n",
    "на экран максимум из трёх, минимум из трёх или сред\u0002неарифметическое трёх чисел."
   ]
  },
  {
   "cell_type": "code",
   "execution_count": 9,
   "metadata": {},
   "outputs": [
    {
     "name": "stdout",
     "output_type": "stream",
     "text": [
      "Максимум: 545.0\n"
     ]
    }
   ],
   "source": [
    "num_1 = float(input('Введите превое число: '))\n",
    "num_2 = float(input('Введите второе число: '))\n",
    "num_3 = float(input('Введите второе число: '))\n",
    "\n",
    "Dimooon = input(\"Хотите расчитать что-то а так-же (max/min/averge): \")\n",
    "\n",
    "if Dimooon == \"max\":\n",
    "    result = max(num_1, num_2, num_3)\n",
    "    print(\"Максимум:\", result)\n",
    "elif Dimooon == \"min\":\n",
    "    result = min(num_1, num_2, num_3)\n",
    "    print(\"Минимум:\", result)\n",
    "elif Dimooon == \"averge\":\n",
    "    result = min(num_1 + num_2 + num_3) / 3\n",
    "    print(\"Средние арифметическое из трех:\", result)\n",
    "else:\n",
    "    print(\"Неверный выбор. Пожалуйста, введите 'max', 'min' или averge\")"
   ]
  },
  {
   "attachments": {},
   "cell_type": "markdown",
   "metadata": {},
   "source": [
    "Задание 3\n",
    "Пользователь вводит с клавиатуры количество ме\u0002тров. В зависимости от выбора пользователя программа \n",
    "переводит метры в мили, дюймы или ярды"
   ]
  },
  {
   "cell_type": "code",
   "execution_count": 10,
   "metadata": {},
   "outputs": [
    {
     "name": "stdout",
     "output_type": "stream",
     "text": [
      "Неверный выбор. Пожалуйста, введите; 'miles', 'inches', 'yards'.\n"
     ]
    }
   ],
   "source": [
    "meters = float(input(\"ВВедите свои метры\"))\n",
    "\n",
    "Dimooon = input(\"А ты хочешь перевести свои МЕТРЫ в; мили, дюймы, ярды ? (miles/inches/yards): \")\n",
    "\n",
    "if Dimooon == \"miles\":\n",
    "    result = meters * 0.000621\n",
    "    print(\"Количество миль:\", result)\n",
    "elif Dimooon == \"inches\":\n",
    "    result = meters * 39.37\n",
    "    print(\"Количество дюймов\", result)\n",
    "elif Dimooon == \"yards\":\n",
    "    result = meters * 1.09\n",
    "    print(\"Количество ярдов\", result)\n",
    "else:\n",
    "    print(\"Неверный выбор. Пожалуйста, введите; 'miles', 'inches', 'yards'.\")"
   ]
  }
 ],
 "metadata": {
  "kernelspec": {
   "display_name": "Python 3",
   "language": "python",
   "name": "python3"
  },
  "language_info": {
   "codemirror_mode": {
    "name": "ipython",
    "version": 3
   },
   "file_extension": ".py",
   "mimetype": "text/x-python",
   "name": "python",
   "nbconvert_exporter": "python",
   "pygments_lexer": "ipython3",
   "version": "3.12.6"
  },
  "orig_nbformat": 4,
  "vscode": {
   "interpreter": {
    "hash": "85d1b76ef1652c4b6aec9325268f9d6808e090202523f56ed242f60e6238b907"
   }
  }
 },
 "nbformat": 4,
 "nbformat_minor": 2
}
