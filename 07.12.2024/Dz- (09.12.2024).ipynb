{
 "cells": [
  {
   "cell_type": "markdown",
   "metadata": {},
   "source": [
    "# 07/12/2024"
   ]
  },
  {
   "cell_type": "markdown",
   "metadata": {},
   "source": [
    "Задание 1\n",
    "Дано два текстовых файла. Выяснить, совпадают ли\n",
    "их строки. Если нет, то вывести несовпадающую строку\n",
    "из каждого файла."
   ]
  },
  {
   "cell_type": "code",
   "execution_count": 3,
   "metadata": {},
   "outputs": [
    {
     "name": "stdout",
     "output_type": "stream",
     "text": [
      "Несовпадающие строки:\n",
      "file1.txt: Лев спал. Мышь пробежала ему по телу. Он проснулся и поймал её. Мышь стала просить, чтобы он пустил её; она сказала: «Если ты меня пустишь, и я тебе добро сделаю». Лев засмеялся, что мышь обещает ему добро сделать, и пустил её.\n",
      "file2.txt: Лев спал. Мышь пробежала ему по телу. Он проснулся и поймал её. Мышь её; она сказала: «Если ты меня пустишь, и я тебе добро сделаю». Лев засмеялся, что мышь обещает ему добро сделать, и пустил её.\n"
     ]
    }
   ],
   "source": [
    "def compare_files(file1_path, file2_path):\n",
    "    # Открываем файлы в режиме чтения\n",
    "    with open(file1_path, 'r', encoding='utf-8') as file1, \\\n",
    "         open(file2_path, 'r', encoding='utf-8') as file2:\n",
    "        # Читаем все строки из файлов и удаляем символы новой строки\n",
    "        lines1 = [line.strip() for line in file1]\n",
    "        lines2 = [line.strip() for line in file2]\n",
    "        \n",
    "        # Преобразуем списки строк в множества\n",
    "        set1 = set(lines1)\n",
    "        set2 = set(lines2)\n",
    "        \n",
    "        # Находим разницу между множествами\n",
    "        difference1 = set1.difference(set2)\n",
    "        difference2 = set2.difference(set1)\n",
    "        \n",
    "        if len(difference1) == 0 and len(difference2) == 0:\n",
    "            print(\"Файлы идентичны.\")\n",
    "        else:\n",
    "            print(f\"Несовпадающие строки:\")\n",
    "            for line in difference1:\n",
    "                print(f\"{file1_path}: {line}\")\n",
    "            for line in difference2:\n",
    "                print(f\"{file2_path}: {line}\")\n",
    "\n",
    "# Пример использования функции\n",
    "compare_files('file1.txt', 'file2.txt')"
   ]
  },
  {
   "cell_type": "markdown",
   "metadata": {},
   "source": [
    "Задание 2\n",
    "Дан текстовый файл. Необходимо создать новый файл\n",
    "и записать в него следующую статистику по исходному\n",
    "файлу:\n",
    "■ Количество символов;\n",
    "■ Количество строк;\n",
    "■ Количество гласных букв;\n",
    "■ Количество согласных букв;\n",
    "■ Количество цифр.\n"
   ]
  },
  {
   "cell_type": "code",
   "execution_count": 8,
   "metadata": {},
   "outputs": [
    {
     "name": "stdout",
     "output_type": "stream",
     "text": [
      "Текст из файла 'input.txt' прочитан.\n",
      "Статистика записана в файл 'output.txt'.\n",
      "Количество символов: 477\n",
      "Количество строк: 7\n",
      "Количество гласных букв: 159\n",
      "Количество согласных букв: 216\n",
      "Количество цифр: 0\n"
     ]
    }
   ],
   "source": [
    "import string\n",
    "\n",
    "# Гласные буквы русского алфавита\n",
    "vowels = {'а', 'у', 'е', 'ы', 'о', 'э', 'ю', 'я', 'и'}\n",
    "\n",
    "# Согласные буквы русского алфавита\n",
    "consonants = set(string.ascii_letters + 'бвгджзйклмнпрстфхцчшщъыьэюя') - vowels\n",
    "\n",
    "# Цифры\n",
    "digits = set(string.digits)\n",
    "\n",
    "def analyze_file(input_filename, output_filename):\n",
    "    try:\n",
    "        # Чтение всего содержимого файла\n",
    "        with open(input_filename, 'r', encoding='utf-8') as input_file:\n",
    "            text = input_file.read()\n",
    "            \n",
    "        print(f\"Текст из файла '{input_filename}' прочитан.\")  # Логирование процесса\n",
    "        \n",
    "        # Подсчет количества символов\n",
    "        char_count = len(text)\n",
    "        \n",
    "        # Подсчет количества строк\n",
    "        line_count = sum(1 for line in text.splitlines())\n",
    "        \n",
    "        # Подсчет количества гласных букв\n",
    "        vowel_count = sum(1 for ch in text.lower() if ch in vowels)\n",
    "        \n",
    "        # Подсчет количества согласных букв\n",
    "        consonant_count = sum(1 for ch in text.lower() if ch in consonants)\n",
    "        \n",
    "        # Подсчет количества цифр\n",
    "        digit_count = sum(1 for ch in text if ch in digits)\n",
    "        \n",
    "        # Формирование строки статистики\n",
    "        statistics = (\n",
    "            f\"Количество символов: {char_count}\\n\"\n",
    "            f\"Количество строк: {line_count}\\n\"\n",
    "            f\"Количество гласных букв: {vowel_count}\\n\"\n",
    "            f\"Количество согласных букв: {consonant_count}\\n\"\n",
    "            f\"Количество цифр: {digit_count}\"\n",
    "        )\n",
    "        \n",
    "        # Запись статистики в новый файл\n",
    "        with open(output_filename, 'w', encoding='utf-8') as output_file:\n",
    "            output_file.write(statistics)\n",
    "        \n",
    "        print(f\"Статистика записана в файл '{output_filename}'.\")  # Логирование процесса\n",
    "    \n",
    "    except FileNotFoundError as e:\n",
    "        print(f\"Ошибка: Файл '{input_filename}' не найден.\")\n",
    "        print(e)\n",
    "    except Exception as e:\n",
    "        print(\"Произошла непредвиденная ошибка:\", e)\n",
    "\n",
    "# Пример использования функции\n",
    "analyze_file('input.txt', 'output.txt')\n",
    "\n",
    "with open('output.txt', 'r', encoding='utf-8') as output_file:\n",
    "    content = output_file.read()\n",
    "\n",
    "print(content)"
   ]
  },
  {
   "cell_type": "markdown",
   "metadata": {},
   "source": [
    "Задание 3\n",
    "Дан текстовый файл. Удалить из него последнюю\n",
    "строку. Результат записать в другой файл.\n"
   ]
  },
  {
   "cell_type": "code",
   "execution_count": 11,
   "metadata": {},
   "outputs": [
    {
     "name": "stdout",
     "output_type": "stream",
     "text": [
      "Удалённая строка: Там она спокойно заснула, а котята не могли её достать.\n",
      "\n",
      "Содержание нового файла:\n",
      "У кошки появились котята. Два веселых рыжих шалуна. Один котенок забрался на маму-кошку и стал теребить её за ухо. \n",
      "Кошка хотела достать его лапой, а он увернулся. Снова прыгает на маму и машет хвостиком. \n",
      "Второй котёнок увидел хвостик братца и хотел его схватить. \n",
      "А хвостик двигается и не дается. \n",
      "Тогда набросился второй котёнок на братца и поймал его хвост. \n",
      "Кошка устала от шалостей котят, встала и пошла на кресло. \n",
      "\n"
     ]
    }
   ],
   "source": [
    "def remove_last_line(input_filename, output_filename):\n",
    "    # Чтение всего содержимого файла\n",
    "    with open(input_filename, 'r', encoding='utf-8') as input_file:\n",
    "        lines = input_file.readlines()\n",
    "    \n",
    "    # Сохранение последней строки\n",
    "    removed_line = \"\"\n",
    "    if lines:\n",
    "        removed_line = lines[-1].strip()  # Удаляем символ новой строки, если он есть\n",
    "        lines.pop(-1)\n",
    "    \n",
    "    # Запись оставшихся строк в новый файл\n",
    "    with open(output_filename, 'w', encoding='utf-8') as output_file:\n",
    "        output_file.writelines(lines)\n",
    "    \n",
    "    return removed_line\n",
    "\n",
    "# Пример использования функции\n",
    "removed_line = remove_last_line('input.txt', 'output.txt')\n",
    "\n",
    "if removed_line:\n",
    "    print(f\"Удалённая строка: {removed_line}\")\n",
    "else:\n",
    "    print(\"Файл пуст или не содержит строк.\")\n",
    "\n",
    "# Чтение содержимого нового файла\n",
    "with open('output.txt', 'r', encoding='utf-8') as output_file:\n",
    "    content = output_file.read()\n",
    "\n",
    "print(\"\\nСодержание нового файла:\")\n",
    "print(content)"
   ]
  },
  {
   "cell_type": "markdown",
   "metadata": {},
   "source": [
    "Задание 4\n",
    "Дан текстовый файл. Найти длину самой длинной\n",
    "строки"
   ]
  },
  {
   "cell_type": "code",
   "execution_count": 12,
   "metadata": {},
   "outputs": [
    {
     "name": "stdout",
     "output_type": "stream",
     "text": [
      "Длина самой длинной строки в файле example.txt: 146\n"
     ]
    }
   ],
   "source": [
    "def find_longest_line_length(filename):\n",
    "    longest_length = 0\n",
    "    \n",
    "    # Чтение файла построчно\n",
    "    with open(filename, 'r', encoding='utf-8') as file:\n",
    "        for line in file:\n",
    "            # Убираем символы новой строки\n",
    "            stripped_line = line.strip()\n",
    "            current_length = len(stripped_line)\n",
    "            \n",
    "            # Обновляем максимальную длину, если текущая строка длиннее\n",
    "            if current_length > longest_length:\n",
    "                longest_length = current_length\n",
    "                \n",
    "    return longest_length\n",
    "\n",
    "# Пример использования функции\n",
    "filename = 'example.txt'\n",
    "longest_length = find_longest_line_length(filename)\n",
    "print(f\"Длина самой длинной строки в файле {filename}: {longest_length}\")"
   ]
  },
  {
   "cell_type": "markdown",
   "metadata": {},
   "source": [
    "Задание 5\n",
    "Дан текстовый файл. Посчитать сколько раз в нем\n",
    "встречается заданное пользователем слово."
   ]
  },
  {
   "cell_type": "code",
   "execution_count": 13,
   "metadata": {},
   "outputs": [
    {
     "name": "stdout",
     "output_type": "stream",
     "text": [
      "Слово 'мышка' встречается в файле example.txt 0 раз(а).\n"
     ]
    }
   ],
   "source": [
    "def count_word_occurrences(filename, word_to_find):\n",
    "    word_count = 0\n",
    "    \n",
    "    # Чтение всего содержимого файла\n",
    "    with open(filename, 'r', encoding='utf-8') as file:\n",
    "        text = file.read().lower()\n",
    "    \n",
    "    # Приведение искомого слова к нижнему регистру для нечувствительного поиска\n",
    "    word_to_find = word_to_find.lower()\n",
    "    \n",
    "    # Подсчёт количества вхождений слова\n",
    "    word_count = text.count(word_to_find)\n",
    "    \n",
    "    return word_count\n",
    "\n",
    "# Пример использования функции\n",
    "filename = 'example.txt'\n",
    "word_to_find = input(\"Введите слово для поиска: \")\n",
    "occurrences = count_word_occurrences(filename, word_to_find)\n",
    "\n",
    "print(f\"Слово '{word_to_find}' встречается в файле {filename} {occurrences} раз(а).\")"
   ]
  },
  {
   "cell_type": "markdown",
   "metadata": {},
   "source": [
    "Задание 6\n",
    "Дан текстовый файл. Найти и заменить в нем заданное слово. Что искать и на что заменять определяется\n",
    "пользователем."
   ]
  },
  {
   "cell_type": "code",
   "execution_count": 14,
   "metadata": {},
   "outputs": [
    {
     "name": "stdout",
     "output_type": "stream",
     "text": [
      "В файле example.txt слово 'Вот' было заменено на 'А вот'.\n"
     ]
    }
   ],
   "source": [
    "def replace_word_in_file(filename, old_word, new_word):\n",
    "    # Чтение всего содержимого файла\n",
    "    with open(filename, 'r', encoding='utf-8') as file:\n",
    "        text = file.read()\n",
    "    \n",
    "    # Замена старого слова на новое\n",
    "    modified_text = text.replace(old_word, new_word)\n",
    "    \n",
    "    # Запись модифицированного текста обратно в файл\n",
    "    with open(filename, 'w', encoding='utf-8') as file:\n",
    "        file.write(modified_text)\n",
    "\n",
    "# Пример использования функции\n",
    "filename = 'example.txt'\n",
    "old_word = input(\"Введите слово для замены: \")\n",
    "new_word = input(\"Введите новое слово: \")\n",
    "replace_word_in_file(filename, old_word, new_word)\n",
    "\n",
    "print(f\"В файле {filename} слово '{old_word}' было заменено на '{new_word}'.\")"
   ]
  }
 ],
 "metadata": {
  "kernelspec": {
   "display_name": "Python 3",
   "language": "python",
   "name": "python3"
  },
  "language_info": {
   "codemirror_mode": {
    "name": "ipython",
    "version": 3
   },
   "file_extension": ".py",
   "mimetype": "text/x-python",
   "name": "python",
   "nbconvert_exporter": "python",
   "pygments_lexer": "ipython3",
   "version": "3.11.9"
  }
 },
 "nbformat": 4,
 "nbformat_minor": 2
}
