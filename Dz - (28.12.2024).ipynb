{
 "cells": [
  {
   "cell_type": "markdown",
   "metadata": {},
   "source": [
    "# 28.12.2024"
   ]
  },
  {
   "cell_type": "markdown",
   "metadata": {},
   "source": [
    "Задание 1: Декораторы\n",
    "Создайте декоратор timer, который измеряет время выполнения функции.\n",
    "Декоратор должен выводить время, затраченное на выполнение функции.\n"
   ]
  },
  {
   "cell_type": "code",
   "execution_count": 2,
   "metadata": {},
   "outputs": [
    {
     "name": "stdout",
     "output_type": "stream",
     "text": [
      "Функция sum_numbers выполнилась за 0.6481 секунд.\n",
      "Результат: 50000005000000\n"
     ]
    }
   ],
   "source": [
    "import time\n",
    "\n",
    "# Определение декоратора\n",
    "def timer(func):\n",
    "    def wrapper(*args, **kwargs):\n",
    "        start_time = time.time()\n",
    "        result = func(*args, **kwargs)\n",
    "        end_time = time.time()\n",
    "        elapsed_time = end_time - start_time\n",
    "        print(f\"Функция {func.__name__} выполнилась за {elapsed_time:.4f} секунд.\")\n",
    "        return result\n",
    "    return wrapper\n",
    "\n",
    "# Использование декоратора\n",
    "@timer\n",
    "def sum_numbers(n):\n",
    "    total_sum = 0\n",
    "    for i in range(1, n + 1):\n",
    "        total_sum += i\n",
    "    return total_sum\n",
    "\n",
    "# Вызов функции\n",
    "result = sum_numbers(10000000)\n",
    "print(\"Результат:\", result)"
   ]
  },
  {
   "cell_type": "markdown",
   "metadata": {},
   "source": [
    "2) Создайте декоратор retry, который повторяет выполнение функции\n",
    "в случае возникновения исключения.\n",
    "Декоратор должен принимать параметр max_retries, который указывает\n",
    "максимальное количество попыток.\n",
    "Если после max_retries попыток функция не выполнится успешно,\n",
    "декоратор должен выбросить исключение."
   ]
  },
  {
   "cell_type": "code",
   "execution_count": 5,
   "metadata": {},
   "outputs": [
    {
     "name": "stdout",
     "output_type": "stream",
     "text": [
      "Произошла ошибка: division by zero\n"
     ]
    }
   ],
   "source": [
    "from functools import wraps\n",
    "\n",
    "def retry(max_retries=3):\n",
    "    def decorator(func):\n",
    "        @wraps(func)\n",
    "        def wrapper(*args, **kwargs):\n",
    "            retries_left = max_retries\n",
    "            while retries_left > 0:\n",
    "                try:\n",
    "                    return func(*args, **kwargs)\n",
    "                except Exception as e:\n",
    "                    retries_left -= 1\n",
    "                    if retries_left == 0:\n",
    "                        raise e\n",
    "                    else:\n",
    "                        continue\n",
    "        return wrapper\n",
    "    return decorator\n",
    "\n",
    "@retry(max_retries=5)\n",
    "def divide(a, b):\n",
    "    return a / b\n",
    "\n",
    "try:\n",
    "    result = divide(10, 0)  # вызов функции с ошибкой деления на ноль\n",
    "except ZeroDivisionError as e:\n",
    "    print(\"Произошла ошибка:\", e)\n",
    "else:\n",
    "    print(result)"
   ]
  },
  {
   "cell_type": "markdown",
   "metadata": {},
   "source": [
    "3) Задание : Замыкания\n",
    "Создайте функцию counter, которая возвращает функцию,\n",
    "подсчитывающую количество вызовов."
   ]
  },
  {
   "cell_type": "code",
   "execution_count": 7,
   "metadata": {},
   "outputs": [],
   "source": [
    "def counter():\n",
    "    count = 0  # Переменная для хранения состояния\n",
    "\n",
    "    def incrementer():\n",
    "        nonlocal count  # Указываем, что переменная count изменяется внутри внутренней функции\n",
    "        count += 1\n",
    "        return count\n",
    "\n",
    "    return incrementer\n",
    "\n",
    "# Создание экземпляра счетчика\n",
    "my_counter = counter()\n",
    "\n",
    "# Несколько вызовов счетчика\n",
    "print(my_counter())  # Выведет: 1\n",
    "print(my_counter())  # Выведет: 2\n",
    "print(my_counter())  # Выведет: 3"
   ]
  },
  {
   "cell_type": "markdown",
   "metadata": {},
   "source": [
    "4) Создайте функцию make_multiplier, которая принимает число и\n",
    "возвращает функцию, умножающую на это число."
   ]
  },
  {
   "cell_type": "code",
   "execution_count": 9,
   "metadata": {},
   "outputs": [
    {
     "name": "stdout",
     "output_type": "stream",
     "text": [
      "10\n",
      "14\n"
     ]
    }
   ],
   "source": [
    "def make_multiplier(multiplier):\n",
    "    def multiply(number):\n",
    "        return number * multiplier\n",
    "    return multiply\n",
    "\n",
    "# Создаем функцию, умножающую на 2\n",
    "double = make_multiplier(2)\n",
    "\n",
    "# Используем созданную функцию\n",
    "print(double(5))   # Выведет: 10\n",
    "print(double(7))   # Выведет: 14"
   ]
  }
 ],
 "metadata": {
  "kernelspec": {
   "display_name": "Python 3",
   "language": "python",
   "name": "python3"
  },
  "language_info": {
   "codemirror_mode": {
    "name": "ipython",
    "version": 3
   },
   "file_extension": ".py",
   "mimetype": "text/x-python",
   "name": "python",
   "nbconvert_exporter": "python",
   "pygments_lexer": "ipython3",
   "version": "3.11.9"
  }
 },
 "nbformat": 4,
 "nbformat_minor": 2
}
