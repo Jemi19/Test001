{
 "cells": [
  {
   "cell_type": "markdown",
   "metadata": {},
   "source": [
    "02.11.2924"
   ]
  },
  {
   "cell_type": "markdown",
   "metadata": {},
   "source": [
    "1.Напишите функцию, вычисляющую произведение\n",
    "элементов списка целых. Список передаётся в качестве параметра. Полученный результат возвращается изфункции."
   ]
  },
  {
   "cell_type": "code",
   "execution_count": 7,
   "metadata": {},
   "outputs": [
    {
     "name": "stdout",
     "output_type": "stream",
     "text": [
      "120\n"
     ]
    }
   ],
   "source": [
    "def multiply_list(lst):\n",
    "    result = 1\n",
    "    for num in lst:\n",
    "        result *= num\n",
    "    return result\n",
    "\n",
    "    my_list = [1, 2, 3, 4, 5]\n",
    "    \n",
    "print(multiply_list(my_list))"
   ]
  },
  {
   "cell_type": "markdown",
   "metadata": {},
   "source": [
    "2.Напишите функцию для нахождения минимума в\n",
    "списке целых. Список передаётся в качестве параметра.\n",
    "Полученный результат возвращается из функции."
   ]
  },
  {
   "cell_type": "code",
   "execution_count": 8,
   "metadata": {},
   "outputs": [
    {
     "name": "stdout",
     "output_type": "stream",
     "text": [
      "-2\n"
     ]
    }
   ],
   "source": [
    "list_ = [5, 2, 1, 4, 10, 6, 27, 8, 9, 2, -2]\n",
    " \n",
    "def min_func(list_, m = None):\n",
    "    if not list_ :\n",
    "        return m \n",
    "    elif not m or m > list_[0]:\n",
    "        m = list_[0]\n",
    "    return min_func(list_[1:], m)\n",
    " \n",
    "print(min_func(list_))"
   ]
  },
  {
   "cell_type": "markdown",
   "metadata": {},
   "source": [
    "3.Напишите функцию, определяющую количество простых чисел в списке целых. Список передаётся в качестве\n",
    "параметра.Полученныйрезультат возвращаетсяизфункции."
   ]
  },
  {
   "cell_type": "code",
   "execution_count": 3,
   "metadata": {},
   "outputs": [
    {
     "name": "stdout",
     "output_type": "stream",
     "text": [
      "0\n"
     ]
    }
   ],
   "source": [
    "def num_1(*args):\n",
    "    count = 0\n",
    "    for num in args:\n",
    "        if num < 2:\n",
    "            continue\n",
    "        else:\n",
    "            for i in range(2, num):\n",
    "                if num % i == 0:\n",
    "                    break\n",
    "            else:\n",
    "                count += 1\n",
    "    return count\n",
    "\n",
    "\n",
    "print(num_1(10))"
   ]
  },
  {
   "cell_type": "markdown",
   "metadata": {},
   "source": [
    "4.Напишите функцию, удаляющую из списка целых\n",
    "некоторое заданное число. Из функции нужно вернуть\n",
    "количество удаленных элементов."
   ]
  },
  {
   "cell_type": "code",
   "execution_count": 50,
   "metadata": {},
   "outputs": [
    {
     "name": "stdout",
     "output_type": "stream",
     "text": [
      "[11, 15, 17]\n"
     ]
    }
   ],
   "source": [
    "def delete_starting_evens(lst):\n",
    "    res =  []\n",
    "    for i in lst:\n",
    "        if i % 2 != 0:\n",
    "            res.append(i)\n",
    "    return res\n",
    " \n",
    "print(delete_starting_evens([4, 4, 10, 11, 12, 15, 17, 8]))\n"
   ]
  },
  {
   "cell_type": "markdown",
   "metadata": {},
   "source": [
    "5.Напишите функцию, которая получает два списка в\n",
    "качестве параметра и возвращает список, содержащий\n",
    "элементы обоих списков."
   ]
  },
  {
   "cell_type": "code",
   "execution_count": 55,
   "metadata": {},
   "outputs": [
    {
     "name": "stdout",
     "output_type": "stream",
     "text": [
      "((1, 3, 2, 6, 4, 5), (-5, -4, -6, -2, -3, -1))\n"
     ]
    }
   ],
   "source": [
    "my_list_a = (1, 3, 2, 6, 4, 5)\n",
    "my_list_b = (-5, -4, -6, -2, -3, -1)\n",
    "combined_list = (my_list_a, my_list_b)\n",
    "lst = (my_list_a, my_list_b)\n",
    "\n",
    "\n",
    "print(zip)"
   ]
  },
  {
   "cell_type": "markdown",
   "metadata": {},
   "source": [
    "6.Напишите функцию, высчитывающую степень каждого\n",
    "элемента списка целых. Значение для степени передаётся\n",
    "в качестве параметра, список тоже передаётся в качестве\n",
    "параметра. Функция возвращает новый список, содержащий полученные результаты."
   ]
  },
  {
   "cell_type": "code",
   "execution_count": 64,
   "metadata": {},
   "outputs": [
    {
     "name": "stdout",
     "output_type": "stream",
     "text": [
      "Исходный список таков : [4, 5, 6, 3, 9]\n",
      "Список после постоянного возведения в степень : [256, 625, 1296, 81, 6561]\n"
     ]
    }
   ],
   "source": [
    "test_list = [4, 5, 6, 3, 9]\n",
    "print (\"Исходный список таков : \" + str(test_list))\n",
    "res = [x ** K for x in test_list]\n",
    " \n",
    "# printing result \n",
    "print (\"Список после постоянного возведения в степень : \" + str(res))"
   ]
  }
 ],
 "metadata": {
  "kernelspec": {
   "display_name": "Python 3",
   "language": "python",
   "name": "python3"
  },
  "language_info": {
   "codemirror_mode": {
    "name": "ipython",
    "version": 3
   },
   "file_extension": ".py",
   "mimetype": "text/x-python",
   "name": "python",
   "nbconvert_exporter": "python",
   "pygments_lexer": "ipython3",
   "version": "3.11.9"
  }
 },
 "nbformat": 4,
 "nbformat_minor": 2
}
